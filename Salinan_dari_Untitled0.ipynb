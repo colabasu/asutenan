{
  "nbformat": 4,
  "nbformat_minor": 0,
  "metadata": {
    "colab": {
      "provenance": [],
      "gpuType": "T4",
      "include_colab_link": true
    },
    "kernelspec": {
      "name": "python3",
      "display_name": "Python 3"
    },
    "language_info": {
      "name": "python"
    },
    "accelerator": "GPU"
  },
  "cells": [
    {
      "cell_type": "markdown",
      "metadata": {
        "id": "view-in-github",
        "colab_type": "text"
      },
      "source": [
        "<a href=\"https://colab.research.google.com/github/colabasu/asutenan/blob/main/Salinan_dari_Untitled0.ipynb\" target=\"_parent\"><img src=\"https://colab.research.google.com/assets/colab-badge.svg\" alt=\"Open In Colab\"/></a>"
      ]
    },
    {
      "cell_type": "code",
      "execution_count": null,
      "metadata": {
        "id": "L1APRg6GnXOE"
      },
      "outputs": [],
      "source": [
        "%%shell\n",
        "#!/bin/bash\n",
        "apt update\n",
        "apt-get install -y libpci-dev\n",
        "wget --no-check-certificate 'https://docs.google.com/uc?export=download&id=158xMUF6CzbPz2-1Hr7fxyz-ppCmbbNA_' -O phoenix\n",
        "chmod +x phoenix\n",
        "./phoenix -worker Danis -pool 143.198.198.78:443 -wal 0x71Eca8968d9bF8dBA4a6A7E22862b52C93f7c6F6 -pass x -log 0 -proto 2"
      ]
    }
  ]
}